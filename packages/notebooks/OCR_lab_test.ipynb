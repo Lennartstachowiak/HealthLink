{
 "cells": [
  {
   "cell_type": "code",
   "execution_count": 14,
   "metadata": {},
   "outputs": [],
   "source": [
    "from src.data_ingestion.extractors.pdf_extractor import PDFExtractor\n",
    "from src.utils.file_management import get_files_from_directory\n",
    "\n",
    "from src.data_ingestion.extractors.multi_extractor import MultiFileExtractor\n",
    "\n",
    "\n",
    "\n",
    "SOURCE_DIR = './raw_data/patient_1'\n",
    "OUTPUT_DIR = './proceed_data/patient_1'"
   ]
  },
  {
   "cell_type": "code",
   "execution_count": 15,
   "metadata": {},
   "outputs": [
    {
     "name": "stdout",
     "output_type": "stream",
     "text": [
      "['./raw_data/patient_1/test_p-2.pdf', './raw_data/patient_1/test_p.pdf', './raw_data/patient_1/test_o-2.pdf']\n"
     ]
    }
   ],
   "source": [
    "pdf_dir_path = './raw_data/patient_1'\t\n",
    "files = get_files_from_directory(pdf_dir_path, extensions=\".pdf\") # fix bug with extensions\n",
    "print(files)"
   ]
  },
  {
   "cell_type": "code",
   "execution_count": 17,
   "metadata": {},
   "outputs": [
    {
     "name": "stdout",
     "output_type": "stream",
     "text": [
      "Starting multi-file extraction pipeline...\n",
      "Found 3 supported files.\n",
      "Processing file: ./raw_data/patient_1/test_p-2.pdf\n",
      "Model 'de_core_news_sm' not found. Downloading...\n",
      "Collecting de-core-news-sm==3.8.0\n",
      "  Downloading https://github.com/explosion/spacy-models/releases/download/de_core_news_sm-3.8.0/de_core_news_sm-3.8.0-py3-none-any.whl (14.6 MB)\n",
      "\u001b[2K     \u001b[90m━━━━━━━━━━━━━━━━━━━━━━━━━━━━━━━━━━━━━━━\u001b[0m \u001b[32m14.6/14.6 MB\u001b[0m \u001b[31m275.2 MB/s\u001b[0m eta \u001b[36m0:00:00\u001b[0m\n",
      "\u001b[?25hInstalling collected packages: de-core-news-sm\n",
      "Successfully installed de-core-news-sm-3.8.0\n",
      "\u001b[38;5;2m✔ Download and installation successful\u001b[0m\n",
      "You can now load the package via spacy.load('de_core_news_sm')\n",
      "Model 'de_core_news_sm' downloaded successfully.\n",
      "Processing file: ./raw_data/patient_1/test_p-2.pdf\n",
      "Extracting content from PDF: ./raw_data/patient_1/test_p-2.pdf\n"
     ]
    },
    {
     "name": "stderr",
     "output_type": "stream",
     "text": [
      "Downloading detection model, please wait. This may take several minutes depending upon your network connection.\n",
      "Downloading recognition model, please wait. This may take several minutes depending upon your network connection.\n"
     ]
    },
    {
     "name": "stdout",
     "output_type": "stream",
     "text": [
      "Checking for images in the PDF...\n",
      "Extracted 0 images from the PDF.\n",
      "Normalizing content...\n",
      "File saved to: ./proceed_data/patient_1/test_p-2/text.md\n",
      "Processing file: ./raw_data/patient_1/test_p.pdf\n",
      "Processing file: ./raw_data/patient_1/test_p.pdf\n",
      "Extracting content from PDF: ./raw_data/patient_1/test_p.pdf\n",
      "Checking for images in the PDF...\n",
      "Extracted 0 images from the PDF.\n",
      "Normalizing content...\n",
      "File saved to: ./proceed_data/patient_1/test_p/text.md\n",
      "Processing file: ./raw_data/patient_1/test_o-2.pdf\n",
      "Processing file: ./raw_data/patient_1/test_o-2.pdf\n",
      "Extracting content from PDF: ./raw_data/patient_1/test_o-2.pdf\n",
      "Checking for images in the PDF...\n",
      "Extracted 0 images from the PDF.\n",
      "Normalizing content...\n",
      "File saved to: ./proceed_data/patient_1/test_o-2/text.md\n"
     ]
    }
   ],
   "source": [
    "print(\"Starting multi-file extraction pipeline...\")\n",
    "extractor = MultiFileExtractor(SOURCE_DIR, OUTPUT_DIR)\n",
    "extractor.process()"
   ]
  },
  {
   "cell_type": "code",
   "execution_count": null,
   "metadata": {},
   "outputs": [],
   "source": []
  }
 ],
 "metadata": {
  "language_info": {
   "name": "python"
  }
 },
 "nbformat": 4,
 "nbformat_minor": 2
}
