{
 "cells": [
  {
   "cell_type": "code",
   "execution_count": 1,
   "metadata": {},
   "outputs": [],
   "source": [
    "from haystack.telemetry import tutorial_running\n",
    "tutorial_running(27)"
   ]
  },
  {
   "cell_type": "code",
   "execution_count": 2,
   "metadata": {},
   "outputs": [],
   "source": [
    "import os\n",
    "from getpass import getpass\n",
    "\n",
    "if \"WEAVIATE_API_KEY\" not in os.environ:\n",
    "  os.environ[\"WEAVIATE_API_KEY\"] = getpass(\"Enter your Weaviate API Key\")\n",
    "\n",
    "if \"MISTRAL_API_KEY\" not in os.environ:\n",
    "  os.environ[\"MISTRAL_API_KEY\"] = getpass(\"Enter your Mistral API Key\")"
   ]
  },
  {
   "cell_type": "code",
   "execution_count": 3,
   "metadata": {},
   "outputs": [],
   "source": [
    "## init the DocumentStore\n",
    "\n",
    "from haystack_integrations.document_stores.weaviate import WeaviateDocumentStore, AuthApiKey\n",
    "from haystack import Document\n",
    "import os\n",
    "\n",
    "auth_client_secret = AuthApiKey()\n",
    "\n",
    "WEAVIATE_URL = \"https://6tmywlqskmo4mvbpfbrg.c0.europe-west3.gcp.weaviate.cloud\" # need to check this\n",
    "document_store = WeaviateDocumentStore(url=WEAVIATE_URL,\n",
    "                                       auth_client_secret=auth_client_secret)"
   ]
  },
  {
   "cell_type": "code",
   "execution_count": 4,
   "metadata": {},
   "outputs": [],
   "source": [
    "## Fetch data from datasets import load_dataset\n",
    "\n",
    "import os\n",
    "from haystack import Document\n",
    "\n",
    "def load_local_dataset(directory_path):\n",
    "    documents = []\n",
    "    for root, _, files in os.walk(directory_path):\n",
    "        for file in files:\n",
    "            if file.endswith(\".txt\") or file.endswith(\".md\"):\n",
    "                with open(os.path.join(root, file), \"r\", encoding=\"utf-8\") as f:\n",
    "                    content = f.read()\n",
    "                documents.append(Document(content=content, meta={\"filename\": file}))\n",
    "    return documents\n",
    "\n",
    "# Load your dataset\n",
    "local_dataset_path = \"./processed_data/patient_1\"\n",
    "documents = load_local_dataset(local_dataset_path)\n"
   ]
  },
  {
   "cell_type": "code",
   "execution_count": 5,
   "metadata": {},
   "outputs": [
    {
     "data": {
      "text/plain": [
       "4"
      ]
     },
     "execution_count": 5,
     "metadata": {},
     "output_type": "execute_result"
    }
   ],
   "source": [
    "documents.__len__()"
   ]
  },
  {
   "cell_type": "markdown",
   "metadata": {},
   "source": [
    "### Mistral Doc Embedder "
   ]
  },
  {
   "cell_type": "code",
   "execution_count": 6,
   "metadata": {},
   "outputs": [],
   "source": [
    "from haystack import Document\n",
    "from haystack_integrations.components.embedders.mistral.document_embedder import MistralDocumentEmbedder\n",
    "\n",
    "Mistral_doc_embedder = MistralDocumentEmbedder(model=\"mistral-embed\")\n"
   ]
  },
  {
   "cell_type": "code",
   "execution_count": null,
   "metadata": {},
   "outputs": [],
   "source": [
    "# Write Documents to the DocumentStore\n",
    "docs_with_embeddings = Mistral_doc_embedder.run(documents)\n",
    "document_store.write_documents(docs_with_embeddings[\"documents\"])"
   ]
  },
  {
   "cell_type": "markdown",
   "metadata": {},
   "source": [
    "## RAG "
   ]
  },
  {
   "cell_type": "markdown",
   "metadata": {},
   "source": [
    "### Query Text embedder from Mistral"
   ]
  },
  {
   "cell_type": "code",
   "execution_count": 7,
   "metadata": {},
   "outputs": [
    {
     "name": "stdout",
     "output_type": "stream",
     "text": [
      "[-0.0015687942504882812, 0.052154541015625, 0.037109375, 0.0019359588623046875, 0.041473388671875, -0.014984130859375, -0.01279449462890625, -0.00823211669921875, -0.0180816650390625, 0.016357421875, -0.0384521484375, 0.0594482421875, -0.0162811279296875, 0.007167816162109375, -0.0626220703125, 0.08380126953125, 0.0230255126953125, 0.0076904296875, 0.0280914306640625, 0.0011196136474609375, -0.0287322998046875, 0.01346588134765625, -0.00827789306640625, 0.0252838134765625, -0.0233917236328125, -0.01136016845703125, 0.009918212890625, -0.031982421875, -0.0242462158203125, -0.0221099853515625, 0.032623291015625, -0.020843505859375, 0.0195159912109375, -0.0260009765625, 0.0197601318359375, 0.0005555152893066406, -0.016754150390625, -0.035186767578125, 0.022674560546875, -0.00901031494140625, -0.01776123046875, 0.022979736328125, -0.058837890625, -0.00452423095703125, -0.04486083984375, -0.0171356201171875, -0.0386962890625, -0.0218353271484375, 0.00855255126953125, -0.024566650390625, 0.01255035400390625, 0.0183868408203125, 0.039825439453125, -0.0227203369140625, -0.003688812255859375, 0.0149993896484375, 0.051483154296875, 0.03167724609375, -0.0511474609375, 0.016937255859375, -0.0533447265625, -0.020172119140625, 9.22083854675293e-05, -0.001800537109375, 0.0223541259765625, 0.037200927734375, -0.0002579689025878906, -0.0279083251953125, -0.0033721923828125, -0.025390625, 0.007564544677734375, -0.0589599609375, -0.032562255859375, 0.01284027099609375, -0.0285186767578125, 0.0099029541015625, -0.002063751220703125, 0.020599365234375, 0.00281524658203125, 0.00830841064453125, 0.005725860595703125, 0.0269317626953125, 0.05279541015625, -0.009735107421875, -0.0093841552734375, -0.01415252685546875, 0.032196044921875, -0.0143280029296875, -0.020477294921875, 0.020721435546875, 0.002292633056640625, 0.00939178466796875, 0.002593994140625, -0.05023193359375, 0.0298919677734375, 0.0439453125, -0.01678466796875, -0.01418304443359375, 0.006244659423828125, 0.056182861328125, 0.057769775390625, -0.03302001953125, 0.059722900390625, -0.0215911865234375, -0.0121917724609375, -0.00995635986328125, 0.0276031494140625, -0.0181121826171875, -0.0058135986328125, -0.017303466796875, -0.093994140625, -0.0204925537109375, 0.012420654296875, -0.03948974609375, 0.0068206787109375, -0.0003437995910644531, -0.00597381591796875, 0.06689453125, -0.05633544921875, -0.043701171875, -0.018798828125, 0.023590087890625, -0.005584716796875, -0.0242462158203125, -0.0199737548828125, -0.033111572265625, -0.004749298095703125, 0.00074005126953125, -0.0042877197265625, 0.01470947265625, -0.0107421875, 0.0039215087890625, -0.02349853515625, -0.0129852294921875, -0.02984619140625, -0.004680633544921875, -0.00537872314453125, -0.0237579345703125, -0.024261474609375, 0.0192413330078125, -0.002719879150390625, -0.0130462646484375, -0.026641845703125, -0.0087127685546875, -0.035552978515625, 0.029998779296875, 0.0369873046875, 0.049896240234375, -0.0760498046875, 0.03424072265625, -0.005908966064453125, 0.04083251953125, 0.058868408203125, -0.0015010833740234375, -0.017364501953125, -0.0379638671875, -0.0279998779296875, -0.01488494873046875, 0.051544189453125, -0.00240325927734375, -0.0014286041259765625, 0.0273590087890625, 0.017822265625, 0.018402099609375, -0.0104217529296875, -0.022674560546875, -0.022735595703125, 0.0134735107421875, -0.0168914794921875, -0.03173828125, 0.05828857421875, -0.0108489990234375, 0.05419921875, 0.064697265625, -0.0244140625, 0.04046630859375, 0.0262451171875, 0.00907135009765625, 0.060455322265625, 0.0245208740234375, 0.0176849365234375, -0.007534027099609375, 0.009674072265625, 0.00836181640625, 0.01322174072265625, -0.0215911865234375, -0.0361328125, -0.0091705322265625, -0.0218048095703125, 0.037628173828125, -0.04339599609375, -0.01050567626953125, -0.0270233154296875, 0.068115234375, -0.004058837890625, 0.062744140625, -0.0161285400390625, -0.032684326171875, 0.0599365234375, -0.0027713775634765625, 0.04254150390625, 0.0777587890625, -0.01422119140625, 0.03753662109375, 0.017181396484375, 0.044830322265625, -0.026397705078125, 0.068115234375, 0.0222320556640625, -0.0377197265625, -0.01300811767578125, 0.0335693359375, 0.0005087852478027344, -0.01183319091796875, -0.011749267578125, 0.0031337738037109375, 0.0264434814453125, 0.004604339599609375, -0.02471923828125, 0.0023822784423828125, -0.01065826416015625, -0.034423828125, 0.0053253173828125, 0.00316619873046875, 0.0204010009765625, 0.040863037109375, 0.004848480224609375, -0.018768310546875, 0.004222869873046875, 0.0203399658203125, -0.0072784423828125, 0.00620269775390625, 0.0165252685546875, -0.0118408203125, 0.0191497802734375, -0.006687164306640625, -0.01197052001953125, 0.040008544921875, -0.0246734619140625, 0.03009033203125, -0.0298004150390625, 0.0137939453125, -0.0129241943359375, 0.032745361328125, 0.033782958984375, 0.0006208419799804688, -0.00275421142578125, 0.0023860931396484375, -0.002655029296875, 0.02789306640625, -0.06341552734375, -0.0308837890625, -0.045318603515625, -0.022064208984375, -0.051666259765625, -0.044830322265625, -0.0156402587890625, -0.07000732421875, 0.0753173828125, -0.0638427734375, 0.01544952392578125, 0.038543701171875, 0.0296783447265625, 0.0015001296997070312, 0.040985107421875, 0.0038166046142578125, -0.0212249755859375, 0.01116180419921875, 0.06573486328125, 0.004108428955078125, -0.049896240234375, -0.03466796875, 0.0201416015625, -0.016876220703125, 0.05584716796875, -0.01092529296875, -0.004505157470703125, 0.017364501953125, 0.033355712890625, 0.03521728515625, -0.0199737548828125, 0.0261688232421875, 0.00237274169921875, 0.053680419921875, -0.057159423828125, 0.0014982223510742188, -0.032196044921875, 0.020263671875, 0.0001074075698852539, -0.043609619140625, 0.00409698486328125, 0.033233642578125, 0.0306549072265625, 0.002147674560546875, 0.00492095947265625, -0.031829833984375, 0.0215911865234375, 0.028533935546875, 0.02044677734375, 0.034912109375, 0.08343505859375, -0.056304931640625, -0.006107330322265625, -0.01306915283203125, 0.02740478515625, -0.0309295654296875, -0.0261383056640625, -0.033905029296875, -0.03802490234375, -0.0650634765625, -0.00783538818359375, -0.01338958740234375, -0.0092620849609375, 0.01279449462890625, -0.0009703636169433594, -0.0034656524658203125, -0.01251220703125, -0.021759033203125, -0.032684326171875, -0.017608642578125, -0.02374267578125, -0.0301513671875, 0.0675048828125, -0.01325225830078125, -0.0016088485717773438, -0.0384521484375, 0.038543701171875, -0.03826904296875, -0.00612640380859375, -0.02764892578125, 0.015716552734375, 0.005214691162109375, 0.0304718017578125, 0.01605224609375, -0.0225830078125, -0.004329681396484375, 0.03515625, 0.034454345703125, -0.0218658447265625, 0.0292205810546875, -0.0038928985595703125, -0.024658203125, 0.01042938232421875, -0.049957275390625, -0.03936767578125, -0.037872314453125, -0.00366973876953125, -0.0182647705078125, 0.03289794921875, 0.00818634033203125, 0.02252197265625, -0.0177001953125, 0.0128021240234375, 0.052490234375, -0.005466461181640625, 0.093017578125, -0.01415252685546875, -0.0224761962890625, 0.00832366943359375, 0.03619384765625, -0.01558685302734375, 0.00472259521484375, 0.06292724609375, 0.019500732421875, 0.0211944580078125, 0.0243988037109375, 0.01190185546875, 0.02325439453125, -0.0687255859375, 0.0306396484375, 0.02557373046875, -0.0031986236572265625, 0.0227508544921875, 0.00928497314453125, 0.01165771484375, 0.032623291015625, 0.026275634765625, -0.0338134765625, -0.0012445449829101562, -0.0203857421875, -0.041656494140625, 0.0163421630859375, 0.051513671875, 0.0231475830078125, 0.01395416259765625, -0.0145111083984375, -0.083251953125, -0.0225830078125, -0.0231170654296875, 0.08135986328125, 0.0721435546875, 0.01229095458984375, -0.00791168212890625, -0.0234375, -0.0102996826171875, 0.0203399658203125, 0.0254058837890625, 0.042449951171875, 0.025909423828125, 0.007724761962890625, -0.007419586181640625, -0.0357666015625, 0.036529541015625, 0.0156707763671875, 0.00106048583984375, 0.004940032958984375, 0.04815673828125, 0.040863037109375, 0.057159423828125, -0.007190704345703125, 0.07745361328125, 0.0102386474609375, -0.03753662109375, 0.0081939697265625, -0.0150146484375, 0.0205535888671875, -0.027679443359375, -0.06072998046875, -0.0322265625, -0.0012197494506835938, -0.0144195556640625, 0.004337310791015625, -0.0794677734375, -0.0044403076171875, 0.06549072265625, -0.035400390625, 0.0105438232421875, 0.0178375244140625, -8.404254913330078e-05, 0.00720977783203125, -0.0211944580078125, -0.008758544921875, 0.01009368896484375, -0.0443115234375, -0.0233917236328125, 0.0243072509765625, 0.022735595703125, -0.04632568359375, 0.0157623291015625, -0.06378173828125, -0.01395416259765625, 0.0021839141845703125, -0.0007915496826171875, 0.01363372802734375, -0.017791748046875, -0.0123291015625, 0.0140380859375, 0.0301971435546875, -0.0308380126953125, -0.0303192138671875, -0.0026493072509765625, -0.044189453125, 0.0015478134155273438, 0.0233612060546875, -0.0038547515869140625, 0.020477294921875, -0.028350830078125, -0.01432037353515625, -0.019989013671875, 0.0092620849609375, -0.027679443359375, 0.028106689453125, -0.04718017578125, -0.05096435546875, -0.064453125, 0.08172607421875, 0.03472900390625, 0.044708251953125, 0.0025482177734375, -0.01480865478515625, 0.06390380859375, -0.0484619140625, -0.04180908203125, -0.0164031982421875, 0.0269317626953125, -0.00466156005859375, 0.043212890625, -0.0169830322265625, 0.03533935546875, -0.042388916015625, 0.03753662109375, 0.021331787109375, -0.00998687744140625, -0.06439208984375, 0.058441162109375, 0.03985595703125, -0.06475830078125, -0.0294342041015625, -0.0018768310546875, 0.0173797607421875, 0.04144287109375, -0.051788330078125, -0.019866943359375, 0.01873779296875, -0.049285888671875, -0.05413818359375, 0.01065826416015625, 0.01140594482421875, -0.05035400390625, 0.0015783309936523438, 0.0066680908203125, -0.0193939208984375, 0.01526641845703125, 0.04205322265625, 0.011474609375, 0.0343017578125, 0.0283966064453125, -0.042144775390625, 0.06988525390625, -0.0184478759765625, -0.02484130859375, -0.0183563232421875, 0.005298614501953125, 0.0184173583984375, -0.0036754608154296875, 0.01534271240234375, -0.037078857421875, 0.022857666015625, -0.0225677490234375, 0.0007224082946777344, -0.01384735107421875, -0.035369873046875, -0.03900146484375, -0.0173187255859375, -0.00426483154296875, 0.0164947509765625, 0.01116943359375, 0.01337432861328125, 0.0203399658203125, -0.03662109375, -0.0005011558532714844, -0.004638671875, -0.0048828125, 0.01236724853515625, -0.0164794921875, 0.031463623046875, -0.0196990966796875, -0.01358795166015625, -0.008544921875, 0.007152557373046875, -0.077880859375, 0.0036182403564453125, -0.0384521484375, -0.007015228271484375, -0.01111602783203125, -0.0062713623046875, -0.08489990234375, 0.0052490234375, 0.033538818359375, 0.02093505859375, -0.01220703125, -0.037139892578125, -0.0216827392578125, -0.038848876953125, -0.0192413330078125, 0.04595947265625, -0.016387939453125, 0.016265869140625, -0.032867431640625, 0.0073089599609375, 0.0232391357421875, 0.0087432861328125, 0.03765869140625, 0.006473541259765625, 0.0178985595703125, -0.014801025390625, -0.0205230712890625, 0.0017566680908203125, -0.0021953582763671875, 0.01354217529296875, -0.0286712646484375, 0.023681640625, -0.04364013671875, 0.0095672607421875, 0.047210693359375, 0.0246124267578125, 0.0015163421630859375, -0.0234375, -0.01715087890625, 0.0024929046630859375, 0.008453369140625, 0.02642822265625, -0.042877197265625, -0.05322265625, 0.059661865234375, 0.033111572265625, 0.037384033203125, 0.0205078125, -0.01153564453125, -0.0201416015625, 0.04150390625, 0.03717041015625, 0.0012083053588867188, -0.055389404296875, -0.0105133056640625, 0.041107177734375, -0.031951904296875, 0.038055419921875, -0.0224761962890625, 0.03399658203125, 0.04803466796875, 0.00708770751953125, 0.0195159912109375, 0.052886962890625, 0.03350830078125, 0.01117706298828125, -0.040802001953125, 0.01033782958984375, -0.005847930908203125, -0.018646240234375, -0.022247314453125, 0.025421142578125, 0.038055419921875, -0.06268310546875, 0.0031261444091796875, -0.03192138671875, 0.00518035888671875, 0.052154541015625, 0.029449462890625, -0.0003361701965332031, 0.028472900390625, -0.0052032470703125, -0.0215301513671875, -0.0142669677734375, -0.04180908203125, 0.038787841796875, 0.026824951171875, 0.0164337158203125, 0.00024366378784179688, -0.0007753372192382812, 0.045501708984375, 0.019439697265625, -0.009918212890625, -0.002227783203125, 0.0034275054931640625, 0.06683349609375, 0.028167724609375, 0.05743408203125, -0.01226043701171875, -0.04443359375, -0.02484130859375, 0.0290985107421875, 0.01291656494140625, 0.056976318359375, -0.026763916015625, 0.01073455810546875, 0.019439697265625, 0.00975799560546875, -0.0025272369384765625, 0.007083892822265625, -0.0037021636962890625, -0.00592041015625, -0.028472900390625, -0.00696563720703125, 0.0015268325805664062, -0.00788116455078125, -0.00508880615234375, -0.00125885009765625, -0.03643798828125, 0.051116943359375, 0.0304107666015625, -0.0267181396484375, 0.041778564453125, 0.006931304931640625, -0.033782958984375, 0.0010175704956054688, -0.040863037109375, 0.035980224609375, -0.032867431640625, -0.06781005859375, -0.007312774658203125, 0.06890869140625, 0.001499176025390625, -0.061798095703125, -0.004451751708984375, -0.01465606689453125, -0.0014591217041015625, 0.002841949462890625, -0.0136260986328125, 0.0145721435546875, 0.0222625732421875, -0.05718994140625, -0.0199127197265625, 0.036956787109375, 0.0011453628540039062, -0.01061248779296875, -0.0135040283203125, -0.06219482421875, 0.0226593017578125, -0.02740478515625, 0.027679443359375, 0.00940704345703125, -0.0186004638671875, 0.0298309326171875, 0.0279083251953125, 0.014984130859375, -0.01922607421875, -0.0224151611328125, -0.00954437255859375, -0.01091766357421875, 0.00555419921875, -0.0036334991455078125, -0.035980224609375, 0.001415252685546875, 0.041473388671875, -0.041107177734375, 0.01568603515625, 0.01152801513671875, -0.02435302734375, 0.0007205009460449219, 0.0015869140625, 0.018585205078125, 0.0224761962890625, 0.0288238525390625, 0.005069732666015625, -0.0189666748046875, -0.0004949569702148438, -0.0291900634765625, 0.0611572265625, 0.0005908012390136719, 0.03155517578125, -0.059539794921875, 0.046630859375, 0.0161590576171875, -0.047821044921875, 0.05877685546875, -0.06787109375, -0.0131683349609375, 0.0150299072265625, -0.006275177001953125, -0.04632568359375, 0.038116455078125, -0.0052490234375, -0.031982421875, -0.01959228515625, 0.0261383056640625, 0.025146484375, -0.004299163818359375, -0.023162841796875, -0.0216522216796875, -0.018768310546875, -0.0038471221923828125, -0.01122283935546875, -0.0638427734375, 0.0195770263671875, 0.0176544189453125, -0.0156402587890625, 0.017486572265625, 0.0013751983642578125, 0.0152130126953125, -0.0123291015625, 0.003971099853515625, -0.051116943359375, -0.02008056640625, 0.0297393798828125, 0.04119873046875, 0.00324249267578125, -0.06329345703125, -0.04205322265625, 0.0090789794921875, 0.0201416015625, -0.0130767822265625, 0.04052734375, 0.028106689453125, -0.0257720947265625, -0.02972412109375, 0.0005578994750976562, -0.08099365234375, 0.046051025390625, -0.0015411376953125, 0.03619384765625, -0.0010890960693359375, -0.0014410018920898438, -0.07159423828125, 0.056732177734375, 0.0355224609375, 0.00583648681640625, 0.01195526123046875, -0.01751708984375, -0.0718994140625, -0.01303863525390625, -0.033599853515625, -0.0070648193359375, 0.0017042160034179688, 0.01248931884765625, 0.00157928466796875, -0.045501708984375, 0.0037593841552734375, -0.00038242340087890625, 0.007297515869140625, 0.062286376953125, 0.0296630859375, -0.059539794921875, 0.092041015625, -0.02508544921875, 0.0218505859375, 0.01959228515625, 0.034210205078125, 0.005664825439453125, -0.0209808349609375, 0.0286865234375, -0.0128326416015625, 0.025360107421875, 0.017822265625, -0.01470184326171875, 0.01953125, 0.00936126708984375, 0.00274658203125, -0.016387939453125, 0.039398193359375, 0.037506103515625, -0.0439453125, -0.0258026123046875, 0.026153564453125, -0.0367431640625, -0.08563232421875, 0.022247314453125, -0.005069732666015625, -0.02532958984375, 0.02911376953125, -0.0054931640625, -0.01078033447265625, -0.062225341796875, 0.030609130859375, 0.00719451904296875, 0.0214691162109375, 0.017425537109375, 0.003940582275390625, -0.040985107421875, 0.042510986328125, -0.0284423828125, -0.022613525390625, 0.019073486328125, 0.0025634765625, 0.0013074874877929688, 0.00366973876953125, -0.0244903564453125, 0.0004062652587890625, 0.03887939453125, -0.02734375, -0.017608642578125, 0.040771484375, 0.017425537109375, 0.020660400390625, -0.009552001953125, 0.0231475830078125, 0.0013608932495117188, -0.004070281982421875, -0.00133514404296875, -0.0170135498046875, -0.027069091796875, 0.00383758544921875, -0.00860595703125, 0.018829345703125, -0.029144287109375, 0.0195770263671875, 0.0108184814453125, 0.04949951171875, 0.026397705078125, -0.0125274658203125, 0.03179931640625, -0.0030727386474609375, 0.0206451416015625, -0.021331787109375, 0.048004150390625, 0.0096588134765625, 0.019317626953125, 0.0031948089599609375, -0.0341796875, -0.0193939208984375, -0.036865234375, -0.0621337890625, 0.0050201416015625, 0.053131103515625, 0.018157958984375, 0.0286102294921875, 0.021087646484375, 0.01312255859375, 0.0694580078125, 0.0078582763671875, -0.027496337890625, -0.06292724609375, 0.0171051025390625, 0.053863525390625, 0.025390625, -0.043121337890625, 0.0091552734375, 0.046295166015625, -0.010162353515625, -0.0170745849609375, 0.017120361328125, -0.0237274169921875, 0.0237579345703125, 0.0186767578125, 0.0250091552734375, -0.034637451171875, 0.01654052734375, 0.0556640625, 0.0156707763671875, 0.00830841064453125, -0.012420654296875, 0.0281524658203125, 0.03631591796875, -0.071533203125, -0.004695892333984375, -0.0011816024780273438, 0.0712890625, -0.004161834716796875, -0.059173583984375, -0.0044097900390625, 0.039642333984375, 0.030975341796875, -0.02655029296875, 0.007038116455078125, 0.0418701171875, -0.01342010498046875, 0.004138946533203125, 0.0384521484375, 0.031585693359375, 0.04571533203125, -0.007335662841796875, 0.0150299072265625, 0.00704193115234375, 0.019683837890625, -0.030426025390625, -0.036590576171875, -0.01910400390625, 0.0023403167724609375, -0.027557373046875, 0.0254364013671875, 0.03277587890625, 0.00482940673828125, 0.03973388671875, -0.00907135009765625, 0.0229949951171875, -0.03509521484375, 0.035308837890625, -0.0244293212890625, 0.0176849365234375, 0.027984619140625, -0.032745361328125, 0.0295867919921875, 0.0171966552734375, -0.0106201171875, 0.018768310546875, -0.0477294921875, -0.0188446044921875, -0.08428955078125, -0.00894927978515625, -0.00821685791015625, 0.00026607513427734375, -0.0036983489990234375, 0.006771087646484375, 0.02630615234375, -0.002109527587890625, 0.01348876953125, -0.0141754150390625, 0.0250091552734375, -0.053680419921875, 0.0295562744140625, 0.0059967041015625, -0.006793975830078125, 0.02227783203125, -0.0714111328125, 0.069580078125, 0.02606201171875, 0.01050567626953125, -0.032989501953125, -0.005481719970703125, 0.0264434814453125, 0.0261993408203125, 0.002105712890625, 0.00479888916015625, 0.0167999267578125, 0.0146636962890625, 0.07135009765625, 0.0200042724609375, -0.04095458984375, 0.0465087890625, 0.00696563720703125, -0.060302734375, 0.0015106201171875, 0.029052734375, 0.018402099609375, 0.0167999267578125, -0.01512908935546875, 0.032562255859375, -0.0482177734375, 0.03460693359375, 0.033966064453125, 8.463859558105469e-05, 0.0067138671875, -0.0214385986328125, 0.0203399658203125, -0.0129241943359375, 0.07476806640625, -0.02392578125, 0.0010995864868164062, 0.00982666015625, 0.0285797119140625, 0.0029354095458984375, -0.00521087646484375, -7.677078247070312e-05, 0.0155029296875, 0.0010271072387695312, 0.0310821533203125, -0.0048370361328125, 0.04736328125, -0.019195556640625, -0.01776123046875, 0.0036792755126953125, -0.01058197021484375, 0.024993896484375, -0.051055908203125, -0.031463623046875, 0.022918701171875, 0.053314208984375, 0.040985107421875, 0.01486968994140625, 0.08087158203125, 0.064697265625, -0.031524658203125, 0.005542755126953125, -0.008636474609375]\n"
     ]
    }
   ],
   "source": [
    "from haystack_integrations.components.embedders.mistral.text_embedder import MistralTextEmbedder\n",
    "\n",
    "embedder = MistralTextEmbedder(model=\"mistral-embed\")\n",
    "\n",
    "result = embedder.run(text=\"How can I ise the Mistral embedding models with Haystack?\")\n",
    "\n",
    "print(result['embedding'])\n"
   ]
  },
  {
   "cell_type": "markdown",
   "metadata": {},
   "source": [
    "### init the Retrival from weaviate"
   ]
  },
  {
   "cell_type": "code",
   "execution_count": 2,
   "metadata": {},
   "outputs": [
    {
     "ename": "NameError",
     "evalue": "name 'document_store' is not defined",
     "output_type": "error",
     "traceback": [
      "\u001b[0;31m---------------------------------------------------------------------------\u001b[0m",
      "\u001b[0;31mNameError\u001b[0m                                 Traceback (most recent call last)",
      "Cell \u001b[0;32mIn[2], line 4\u001b[0m\n\u001b[1;32m      1\u001b[0m \u001b[38;5;28;01mfrom\u001b[39;00m\u001b[38;5;250m \u001b[39m\u001b[38;5;21;01mhaystack_integrations\u001b[39;00m\u001b[38;5;21;01m.\u001b[39;00m\u001b[38;5;21;01mcomponents\u001b[39;00m\u001b[38;5;21;01m.\u001b[39;00m\u001b[38;5;21;01mretrievers\u001b[39;00m\u001b[38;5;21;01m.\u001b[39;00m\u001b[38;5;21;01mweaviate\u001b[39;00m\u001b[38;5;250m \u001b[39m\u001b[38;5;28;01mimport\u001b[39;00m WeaviateEmbeddingRetriever\n\u001b[1;32m      3\u001b[0m \u001b[38;5;66;03m# Initialize the Weaviate retriever\u001b[39;00m\n\u001b[0;32m----> 4\u001b[0m retriever \u001b[38;5;241m=\u001b[39m WeaviateEmbeddingRetriever(document_store\u001b[38;5;241m=\u001b[39m\u001b[43mdocument_store\u001b[49m)\n",
      "\u001b[0;31mNameError\u001b[0m: name 'document_store' is not defined"
     ]
    }
   ],
   "source": [
    "\n",
    "from haystack_integrations.components.retrievers.weaviate import WeaviateEmbeddingRetriever\n",
    "\n",
    "# Initialize the Weaviate retriever\n",
    "retriever = WeaviateEmbeddingRetriever(document_store=document_store)\n"
   ]
  },
  {
   "cell_type": "markdown",
   "metadata": {},
   "source": [
    "### Define Template for Patient Medical Record Prompt "
   ]
  },
  {
   "cell_type": "code",
   "execution_count": 9,
   "metadata": {},
   "outputs": [],
   "source": [
    "from haystack.components.builders import ChatPromptBuilder\n",
    "from haystack.dataclasses import ChatMessage\n",
    "\n",
    "technical_template = [\n",
    "    ChatMessage.from_user(\n",
    "        \"\"\"\n",
    "Please provide a detailed and technical answer to the following question based on the medical information available:\n",
    "\n",
    "Question: {{ question }}\n",
    "\n",
    "Context:\n",
    "{% for document in documents %}\n",
    "    {{ document.content }}\n",
    "{% endfor %}\n",
    "\n",
    "Technical Details:\n",
    "        \"\"\"\n",
    "    )\n",
    "]\n",
    "\n",
    "technical_prompt_builder = ChatPromptBuilder(template=technical_template)\n",
    "\n",
    "\n",
    "simplification_template = [\n",
    "    ChatMessage.from_user(\n",
    "        \"\"\"\n",
    "Now, let's translate the medical information into simpler terms for better understanding. Here's the detailed answer to your query:\n",
    "\n",
    "Technical Answer: {{ technical_response }}\n",
    "\n",
    "**Here’s what you need to know**:  \n",
    "[Provide a simplified, easy-to-understand explanation of the answer, as if talking directly to the patient not mention his name, you know him.]\n",
    "\n",
    "**What you can do next**:  \n",
    "- **Medications**: [Provide clear, actionable advice about medications, if this only exist in the medical record e.g., \"Take your insulin as prescribed, and make sure to monitor your blood sugar levels regularly.\"]  \n",
    "- **Activities**: [Suggest practical activities, if this only exist in the medical record e.g., \"Try to go for a 20-minute walk every day—it’s great for your health!\"]  \n",
    "- **Dietary Tips**: [Offer simple dietary advice, if this only exist in the medical record e.g., \"Include more leafy greens and whole grains in your meals, and try to avoid sugary snacks.\"]  \n",
    "\n",
    "**Remember**: You’re doing great, and I’m here to support you every step of the way. If you have any more questions or need further clarification, just ask! I’m always here to help. 😊\n",
    "\n",
    "What else would you like to know?\n",
    "\n",
    "\n",
    "        \"\"\"\n",
    "    )\n",
    "]\n",
    "\n",
    "simplification_prompt_builder = ChatPromptBuilder(template=simplification_template)\n"
   ]
  },
  {
   "cell_type": "markdown",
   "metadata": {},
   "source": [
    "# inti the Chat Generator  Mistral "
   ]
  },
  {
   "cell_type": "code",
   "execution_count": 10,
   "metadata": {},
   "outputs": [],
   "source": [
    "\n",
    "from haystack_integrations.components.generators.mistral import MistralChatGenerator\n",
    "from haystack.components.generators.utils import print_streaming_chunk\n",
    "from haystack.dataclasses import ChatMessage\n",
    "from haystack.utils import Secret\n",
    "\n",
    "# mistral_chat_generator = MistralChatGenerator(streaming_callback=print_streaming_chunk)\n",
    "\n",
    "\n",
    "technical_llm = MistralChatGenerator(streaming_callback=print_streaming_chunk)  # LLM for technical response\n",
    "simplification_llm = MistralChatGenerator(streaming_callback=print_streaming_chunk)  # LLM for simplified respon"
   ]
  },
  {
   "cell_type": "markdown",
   "metadata": {},
   "source": [
    "## RAG pipeline "
   ]
  },
  {
   "cell_type": "code",
   "execution_count": 11,
   "metadata": {},
   "outputs": [],
   "source": [
    "from haystack import Pipeline\n",
    "\n",
    "basic_rag_pipeline = Pipeline()\n",
    "\n",
    "# Add components to your pipeline\n",
    "basic_rag_pipeline.add_component(\"text_embedder\", embedder)\n",
    "basic_rag_pipeline.add_component(\"retriever\", retriever)\n",
    "basic_rag_pipeline.add_component(\"technical_prompt_builder\", technical_prompt_builder)\n",
    "basic_rag_pipeline.add_component(\"technical_llm\", technical_llm)\n",
    "basic_rag_pipeline.add_component(\"simplification_prompt_builder\", simplification_prompt_builder)\n",
    "basic_rag_pipeline.add_component(\"simplification_llm\", simplification_llm)\n",
    "\n"
   ]
  },
  {
   "cell_type": "code",
   "execution_count": 12,
   "metadata": {},
   "outputs": [
    {
     "data": {
      "text/plain": [
       "<haystack.core.pipeline.pipeline.Pipeline object at 0x7f625ad07a30>\n",
       "🚅 Components\n",
       "  - text_embedder: MistralTextEmbedder\n",
       "  - retriever: WeaviateEmbeddingRetriever\n",
       "  - technical_prompt_builder: ChatPromptBuilder\n",
       "  - technical_llm: MistralChatGenerator\n",
       "  - simplification_prompt_builder: ChatPromptBuilder\n",
       "  - simplification_llm: MistralChatGenerator\n",
       "🛤️ Connections\n",
       "  - text_embedder.embedding -> retriever.query_embedding (List[float])\n",
       "  - retriever.documents -> technical_prompt_builder.documents (List[Document])\n",
       "  - technical_prompt_builder.prompt -> technical_llm.messages (List[ChatMessage])\n",
       "  - technical_llm.replies -> simplification_prompt_builder.technical_response (List[ChatMessage])\n",
       "  - simplification_prompt_builder.prompt -> simplification_llm.messages (List[ChatMessage])"
      ]
     },
     "execution_count": 12,
     "metadata": {},
     "output_type": "execute_result"
    }
   ],
   "source": [
    "# Connect the components\n",
    "basic_rag_pipeline.connect(\"text_embedder.embedding\", \"retriever.query_embedding\")\n",
    "basic_rag_pipeline.connect(\"retriever.documents\", \"technical_prompt_builder.documents\")\n",
    "basic_rag_pipeline.connect(\"technical_prompt_builder.prompt\", \"technical_llm.messages\")\n",
    "basic_rag_pipeline.connect(\"technical_llm.replies\", \"simplification_prompt_builder.technical_response\")\n",
    "basic_rag_pipeline.connect(\"simplification_prompt_builder.prompt\", \"simplification_llm.messages\")"
   ]
  },
  {
   "cell_type": "code",
   "execution_count": 13,
   "metadata": {},
   "outputs": [],
   "source": [
    "# Define a function to run the pipeline\n",
    "def ask_question(question):\n",
    "    results = basic_rag_pipeline.run(\n",
    "        {\n",
    "            \"text_embedder\": {\"text\": question},  # Embed the question\n",
    "            \"technical_prompt_builder\": {\"question\": question},  # Build the technical prompt\n",
    "        }\n",
    "    )\n",
    "    return results[\"simplification_llm\"][\"replies\"][0]  # Return the simplified response"
   ]
  },
  {
   "cell_type": "markdown",
   "metadata": {},
   "source": [
    "# Now, connect the components to each other\n",
    "\n",
    "basic_rag_pipeline.connect(\"text_embedder.embedding\", \"retriever.query_embedding\")\n",
    "basic_rag_pipeline.connect(\"retriever\", \"technical_prompt_builder\")\n",
    "basic_rag_pipeline.connect(\"technical_prompt_builder.prompt\", \"llm.messages\")\n",
    "\n",
    "basic_rag_pipeline.connect(\"llm.replies\", \"simplification_prompt_builder.technical_response\")\n",
    "basic_rag_pipeline.connect(\"simplification_prompt_builder.prompt\", \"llm.messages\")\n",
    "\n",
    "basic_rag_pipeline.show()"
   ]
  },
  {
   "cell_type": "markdown",
   "metadata": {},
   "source": [
    "## Validation \n"
   ]
  },
  {
   "cell_type": "code",
   "execution_count": null,
   "metadata": {},
   "outputs": [],
   "source": [
    "def process_question(question, documents, technical_pipeline, simplification_pipeline):\n",
    "    # Generate technical response\n",
    "    technical_result = technical_pipeline.run({\"question\": question, \"documents\": documents})\n",
    "    technical_response = technical_result[\"llm\"][\"replies\"][0].text\n",
    "\n",
    "    # Simplify the technical response\n",
    "    simplified_result = simplification_pipeline.run({\"technical_response\": technical_response})\n",
    "    patient_friendly_response = simplified_result[\"llm\"][\"replies\"][0].text\n",
    "\n",
    "    return patient_friendly_response\n"
   ]
  },
  {
   "cell_type": "code",
   "execution_count": 14,
   "metadata": {},
   "outputs": [],
   "source": [
    "import json\n",
    "\n",
    "def ask_rag_system(question, basic_rag_pipeline):\n",
    "    \"\"\"\n",
    "    Integrates with the RAG pipeline to ask a question and return the response.\n",
    "\n",
    "    Args:\n",
    "    question (str): The question to ask the RAG system.\n",
    "    basic_rag_pipeline: The instantiated RAG pipeline object.\n",
    "\n",
    "    Returns:\n",
    "    str: The text response from the RAG system.\n",
    "    \"\"\"\n",
    "    # Adjust this according to your pipeline's specific configuration and method calls.\n",
    "    response = basic_rag_pipeline.run({\n",
    "        \"text_embedder\": {\"text\": question},\n",
    "        \"prompt_builder\": {\"question\": question}\n",
    "    })\n",
    "    return response[\"llm\"][\"replies\"][0].text\n",
    "\n",
    "def test_rag_system(test_data, basic_rag_pipeline):\n",
    "    results = []\n",
    "    for test in test_data:\n",
    "        response = ask_rag_system(test['question'], basic_rag_pipeline)\n",
    "        \n",
    "        results.append({\n",
    "            \"question\": test['question'],\n",
    "            \"expected\": test['expected_answer'],\n",
    "            \"response\": response,\n",
    "    \n",
    "        })\n",
    "        \n",
    "        # Improved output\n",
    "        print(\"--------------------------------------------------\")\n",
    "        print(f\"Question: {test['question']}\")\n",
    "        print(f\"Expected Answer: {test['expected_answer']}\")\n",
    "        print(f\"RAG's Response: {response}\")\n",
    "        print(\"--------------------------------------------------\\n\")\n",
    "\n",
    "    return results\n",
    "\n",
    "\n"
   ]
  },
  {
   "cell_type": "code",
   "execution_count": 15,
   "metadata": {},
   "outputs": [],
   "source": [
    "\n",
    "# Load your JSON test data (assuming it's saved as `test_data.json`)\n",
    "with open('./processed_data/patient_1/Q_A.json', 'r') as file:\n",
    "    test_data = json.load(file)\n"
   ]
  },
  {
   "cell_type": "code",
   "execution_count": 22,
   "metadata": {},
   "outputs": [
    {
     "data": {
      "text/plain": [
       "{'question': 'What were the main symptoms I had during my latest visit?',\n",
       " 'expected_answer': 'You presented with worsening shortness of breath, intermittent chest tightness, and swelling in your lower extremities.'}"
      ]
     },
     "execution_count": 22,
     "metadata": {},
     "output_type": "execute_result"
    }
   ],
   "source": [
    "test_data[0]"
   ]
  },
  {
   "cell_type": "code",
   "execution_count": 23,
   "metadata": {},
   "outputs": [
    {
     "name": "stdout",
     "output_type": "stream",
     "text": [
      "Based on the medical information provided in your patient medical record, the main symptoms you had during your latest visit were worsening shortness of breath, intermittent chest tightness, and swelling in your lower extremities. These symptoms are consistent with heart failure, as suggested by the echocardiogram findings of mild left ventricular hypertrophy, ejection fraction ~55%, and some signs of volume overload. Additionally, the chest X-ray findings of mild cardiomegaly and prominent pulmonary vasculature are also indicative of heart failure.\n",
      "\n",
      "Your poor glycemic control, as indicated by your Hemoglobin A1c of 9.2%, and recent worsening of diabetes-related symptoms such as polydipsia and polyuria, are also important to consider in your overall clinical presentation.\n",
      "\n",
      "Furthermore, the swelling in your lower extremities, also known as peripheral edema, is a common symptom of heart failure and is likely related to fluid retention due to poor cardiac function. The edema is also consistent with the elevated creatinine level of 1.3 mg/dL, which suggests mild renal impairment.\n",
      "\n",
      "In summary, during your latest visit, your main symptoms included worsening shortness of breath, intermittent chest tightness, and swelling in your lower extremities. These symptoms are consistent with heart failure, and your poor glycemic control and recent worsening of diabetes-related symptoms are also important to consider in your overall clinical presentation.**What you need to know**: During your recent visit, you mentioned having worsening shortness of breath, chest tightness, and swelling in your legs. These symptoms, along with some findings from tests like an echocardiogram and chest X-ray, suggest that you might be dealing with heart failure. Your diabetes, which is not well-controlled as indicated by a high Hemoglobin A1c level, is also a concern.\n",
      "\n",
      "**What you can do next**:\n",
      "\n",
      "- **Medications**: It's crucial to take your medications as prescribed by your doctor. This includes your heart failure medications and your diabetes medication. Regularly monitoring your blood sugar levels is also important.\n",
      "\n",
      "- **Activities**: Try to incorporate some physical activity into your daily routine. A 20-minute walk each day can be beneficial for your health.\n",
      "\n",
      "- **Dietary Tips**: Focus on eating a balanced diet. Incorporate more leafy greens, whole grains, and lean proteins into your meals. Try to limit your intake of sugary foods and drinks.\n",
      "\n",
      "**Remember**: You're doing great, and I'm here to support you every step of the way. If you have any more questions or need further clarification, don't hesitate to ask! I'm always here to help. 😊Simplified Answer: ChatMessage(_role=<ChatRole.ASSISTANT: 'assistant'>, _content=[TextContent(text=\"**What you need to know**: During your recent visit, you mentioned having worsening shortness of breath, chest tightness, and swelling in your legs. These symptoms, along with some findings from tests like an echocardiogram and chest X-ray, suggest that you might be dealing with heart failure. Your diabetes, which is not well-controlled as indicated by a high Hemoglobin A1c level, is also a concern.\\n\\n**What you can do next**:\\n\\n- **Medications**: It's crucial to take your medications as prescribed by your doctor. This includes your heart failure medications and your diabetes medication. Regularly monitoring your blood sugar levels is also important.\\n\\n- **Activities**: Try to incorporate some physical activity into your daily routine. A 20-minute walk each day can be beneficial for your health.\\n\\n- **Dietary Tips**: Focus on eating a balanced diet. Incorporate more leafy greens, whole grains, and lean proteins into your meals. Try to limit your intake of sugary foods and drinks.\\n\\n**Remember**: You're doing great, and I'm here to support you every step of the way. If you have any more questions or need further clarification, don't hesitate to ask! I'm always here to help. 😊\")], _name=None, _meta={'model': 'mistral-tiny', 'index': 0, 'finish_reason': 'stop', 'usage': {}})\n"
     ]
    }
   ],
   "source": [
    "\n",
    "answer = ask_question(test_data[0][\"question\"])\n",
    "print(f\"Simplified Answer: {answer}\")"
   ]
  },
  {
   "cell_type": "code",
   "execution_count": null,
   "metadata": {},
   "outputs": [],
   "source": [
    "\n",
    "test_results = test_rag_system([test_data[0]], basic_rag_pipeline)"
   ]
  },
  {
   "cell_type": "code",
   "execution_count": null,
   "metadata": {},
   "outputs": [],
   "source": [
    "\n",
    "# Assuming `basic_rag_pipeline` is already instantiated and configured properly\n",
    "# Here you would need to replace `basic_rag_pipeline` with your actual RAG pipeline object\n",
    "# For demonstration, I'm assuming this object is available here as `basic_rag_pipeline`\n",
    "\n",
    "# Run the test\n",
    "test_results = test_rag_system(test_data, basic_rag_pipeline)\n",
    "for result in test_results:\n",
    "    print(result)"
   ]
  },
  {
   "cell_type": "markdown",
   "metadata": {},
   "source": []
  }
 ],
 "metadata": {
  "language_info": {
   "name": "python"
  }
 },
 "nbformat": 4,
 "nbformat_minor": 2
}
