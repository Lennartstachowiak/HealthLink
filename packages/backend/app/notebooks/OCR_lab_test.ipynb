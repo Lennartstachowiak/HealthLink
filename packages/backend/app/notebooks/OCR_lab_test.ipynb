{
 "cells": [
  {
   "cell_type": "code",
   "metadata": {
    "ExecuteTime": {
     "end_time": "2025-01-19T14:39:36.893684Z",
     "start_time": "2025-01-19T14:39:36.722512Z"
    }
   },
   "source": [
    "from packages.backend.app.data_ingestion.extractors.pdf_extractor import PDFExtractor\n",
    "from packages.backend.app.utils.file_management import get_files_from_directory\n",
    "\n",
    "from packages.backend.app.data_ingestion.extractors.multi_extractor import MultiFileExtractor\n",
    "\n",
    "SOURCE_DIR = './raw_data/patient_1'\n",
    "OUTPUT_DIR = './proceed_data/patient_1'"
   ],
   "outputs": [
    {
     "ename": "ModuleNotFoundError",
     "evalue": "No module named 'docling'",
     "output_type": "error",
     "traceback": [
      "\u001B[1;31m---------------------------------------------------------------------------\u001B[0m",
      "\u001B[1;31mModuleNotFoundError\u001B[0m                       Traceback (most recent call last)",
      "Cell \u001B[1;32mIn[1], line 1\u001B[0m\n\u001B[1;32m----> 1\u001B[0m \u001B[38;5;28;01mfrom\u001B[39;00m\u001B[38;5;250m \u001B[39m\u001B[38;5;21;01mpackages\u001B[39;00m\u001B[38;5;21;01m.\u001B[39;00m\u001B[38;5;21;01mbackend\u001B[39;00m\u001B[38;5;21;01m.\u001B[39;00m\u001B[38;5;21;01mapp\u001B[39;00m\u001B[38;5;21;01m.\u001B[39;00m\u001B[38;5;21;01mdata_ingestion\u001B[39;00m\u001B[38;5;21;01m.\u001B[39;00m\u001B[38;5;21;01mextractors\u001B[39;00m\u001B[38;5;21;01m.\u001B[39;00m\u001B[38;5;21;01mpdf_extractor\u001B[39;00m\u001B[38;5;250m \u001B[39m\u001B[38;5;28;01mimport\u001B[39;00m PDFExtractor\n\u001B[0;32m      2\u001B[0m \u001B[38;5;28;01mfrom\u001B[39;00m\u001B[38;5;250m \u001B[39m\u001B[38;5;21;01mpackages\u001B[39;00m\u001B[38;5;21;01m.\u001B[39;00m\u001B[38;5;21;01mbackend\u001B[39;00m\u001B[38;5;21;01m.\u001B[39;00m\u001B[38;5;21;01mapp\u001B[39;00m\u001B[38;5;21;01m.\u001B[39;00m\u001B[38;5;21;01mutils\u001B[39;00m\u001B[38;5;21;01m.\u001B[39;00m\u001B[38;5;21;01mfile_management\u001B[39;00m\u001B[38;5;250m \u001B[39m\u001B[38;5;28;01mimport\u001B[39;00m get_files_from_directory\n\u001B[0;32m      4\u001B[0m \u001B[38;5;28;01mfrom\u001B[39;00m\u001B[38;5;250m \u001B[39m\u001B[38;5;21;01mpackages\u001B[39;00m\u001B[38;5;21;01m.\u001B[39;00m\u001B[38;5;21;01mbackend\u001B[39;00m\u001B[38;5;21;01m.\u001B[39;00m\u001B[38;5;21;01mapp\u001B[39;00m\u001B[38;5;21;01m.\u001B[39;00m\u001B[38;5;21;01mdata_ingestion\u001B[39;00m\u001B[38;5;21;01m.\u001B[39;00m\u001B[38;5;21;01mextractors\u001B[39;00m\u001B[38;5;21;01m.\u001B[39;00m\u001B[38;5;21;01mmulti_extractor\u001B[39;00m\u001B[38;5;250m \u001B[39m\u001B[38;5;28;01mimport\u001B[39;00m MultiFileExtractor\n",
      "File \u001B[1;32m~\\Desktop\\Projects\\health-link-mono\\packages\\backend\\app\\data_ingestion\\extractors\\pdf_extractor.py:1\u001B[0m\n\u001B[1;32m----> 1\u001B[0m \u001B[38;5;28;01mfrom\u001B[39;00m\u001B[38;5;250m \u001B[39m\u001B[38;5;21;01mdocling\u001B[39;00m\u001B[38;5;21;01m.\u001B[39;00m\u001B[38;5;21;01mdocument_converter\u001B[39;00m\u001B[38;5;250m \u001B[39m\u001B[38;5;28;01mimport\u001B[39;00m DocumentConverter\n\u001B[0;32m      2\u001B[0m \u001B[38;5;28;01mimport\u001B[39;00m\u001B[38;5;250m \u001B[39m\u001B[38;5;21;01mspacy\u001B[39;00m\n\u001B[0;32m      3\u001B[0m \u001B[38;5;28;01mimport\u001B[39;00m\u001B[38;5;250m \u001B[39m\u001B[38;5;21;01mfitz\u001B[39;00m\n",
      "\u001B[1;31mModuleNotFoundError\u001B[0m: No module named 'docling'"
     ]
    }
   ],
   "execution_count": 1
  },
  {
   "cell_type": "code",
   "execution_count": 15,
   "metadata": {},
   "outputs": [
    {
     "name": "stdout",
     "output_type": "stream",
     "text": [
      "['./raw_data/patient_1/test_p-2.pdf', './raw_data/patient_1/test_p.pdf', './raw_data/patient_1/test_o-2.pdf']\n"
     ]
    }
   ],
   "source": [
    "pdf_dir_path = './raw_data/patient_1'\t\n",
    "files = get_files_from_directory(pdf_dir_path, extensions=\".pdf\") # fix bug with extensions\n",
    "print(files)"
   ]
  },
  {
   "cell_type": "code",
   "execution_count": 17,
   "metadata": {},
   "outputs": [
    {
     "name": "stdout",
     "output_type": "stream",
     "text": [
      "Starting multi-file extraction pipeline...\n",
      "Found 3 supported files.\n",
      "Processing file: ./raw_data/patient_1/test_p-2.pdf\n",
      "Model 'de_core_news_sm' not found. Downloading...\n",
      "Collecting de-core-news-sm==3.8.0\n",
      "  Downloading https://github.com/explosion/spacy-models/releases/download/de_core_news_sm-3.8.0/de_core_news_sm-3.8.0-py3-none-any.whl (14.6 MB)\n",
      "\u001B[2K     \u001B[90m━━━━━━━━━━━━━━━━━━━━━━━━━━━━━━━━━━━━━━━\u001B[0m \u001B[32m14.6/14.6 MB\u001B[0m \u001B[31m275.2 MB/s\u001B[0m eta \u001B[36m0:00:00\u001B[0m\n",
      "\u001B[?25hInstalling collected packages: de-core-news-sm\n",
      "Successfully installed de-core-news-sm-3.8.0\n",
      "\u001B[38;5;2m✔ Download and installation successful\u001B[0m\n",
      "You can now load the package via spacy.load('de_core_news_sm')\n",
      "Model 'de_core_news_sm' downloaded successfully.\n",
      "Processing file: ./raw_data/patient_1/test_p-2.pdf\n",
      "Extracting content from PDF: ./raw_data/patient_1/test_p-2.pdf\n"
     ]
    },
    {
     "name": "stderr",
     "output_type": "stream",
     "text": [
      "Downloading detection model, please wait. This may take several minutes depending upon your network connection.\n",
      "Downloading recognition model, please wait. This may take several minutes depending upon your network connection.\n"
     ]
    },
    {
     "name": "stdout",
     "output_type": "stream",
     "text": [
      "Checking for images in the PDF...\n",
      "Extracted 0 images from the PDF.\n",
      "Normalizing content...\n",
      "File saved to: ./proceed_data/patient_1/test_p-2/text.md\n",
      "Processing file: ./raw_data/patient_1/test_p.pdf\n",
      "Processing file: ./raw_data/patient_1/test_p.pdf\n",
      "Extracting content from PDF: ./raw_data/patient_1/test_p.pdf\n",
      "Checking for images in the PDF...\n",
      "Extracted 0 images from the PDF.\n",
      "Normalizing content...\n",
      "File saved to: ./proceed_data/patient_1/test_p/text.md\n",
      "Processing file: ./raw_data/patient_1/test_o-2.pdf\n",
      "Processing file: ./raw_data/patient_1/test_o-2.pdf\n",
      "Extracting content from PDF: ./raw_data/patient_1/test_o-2.pdf\n",
      "Checking for images in the PDF...\n",
      "Extracted 0 images from the PDF.\n",
      "Normalizing content...\n",
      "File saved to: ./proceed_data/patient_1/test_o-2/text.md\n"
     ]
    }
   ],
   "source": [
    "print(\"Starting multi-file extraction pipeline...\")\n",
    "extractor = MultiFileExtractor(SOURCE_DIR, OUTPUT_DIR)\n",
    "extractor.process()"
   ]
  },
  {
   "cell_type": "code",
   "execution_count": null,
   "metadata": {},
   "outputs": [],
   "source": []
  }
 ],
 "metadata": {
  "language_info": {
   "name": "python"
  },
  "kernelspec": {
   "name": "python3",
   "language": "python",
   "display_name": "Python 3 (ipykernel)"
  }
 },
 "nbformat": 4,
 "nbformat_minor": 2
}
